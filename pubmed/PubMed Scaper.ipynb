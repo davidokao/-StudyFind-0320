{
 "cells": [
  {
   "cell_type": "code",
   "execution_count": 32,
   "metadata": {},
   "outputs": [],
   "source": [
    "#Links\n",
    "#LINK1: https://www.ncbi.nlm.nih.gov/home/develop/api/\n",
    "#LINK2: https://colab.research.google.com/drive/1VOuvANFR08twLBROqYwO_TV34pazgF0_\n",
    "#LINK3: https://www.nlm.nih.gov/pubs/techbull/mj12/mj12_pm_author_ranking.html\n",
    "#LINK4: https://pubmed.ncbi.nlm.nih.gov/?term=Kumar+V&cauthor_id=32489811\n",
    "#LINK5: https://www.ncbi.nlm.nih.gov/pmc/pmctopmid/#converter\n",
    "#\n",
    "#Notes:\n",
    "# Relevant:\n",
    "#   The current preconditons include having the Name and Organization previously, with the additional constraint\n",
    "# of a required computed author id that is generated from PubMed.\n",
    "#   The date has the months in 3/4 letter abbreviations for some ungodly reason. Will have to convert later.\n",
    "#   As of now, I return the DOI link, rather than the study it actually leads to. Ran out of time, but I think\n",
    "# this is easily fixable.\n",
    "#   The topics generated are the keywords from each article pulled. This is not a good way to do this, but should\n",
    "# be fine for a start. There exists MeSH headings on some studies that will work much better for directly pulling,\n",
    "# but ideally we just do something else entirely (Some early NLP? Maybe we just don't use tags here)\n",
    "#\n",
    "# Other:\n",
    "#   There exists an 'affliation' tag on each study published that lists the author's university/location\n",
    "# and potentially an email, which could be useful.\n",
    "\n",
    "from bs4 import BeautifulSoup\n",
    "import requests\n",
    "import urllib.request\n",
    "import json\n",
    "import time"
   ]
  },
  {
   "cell_type": "code",
   "execution_count": 28,
   "metadata": {
    "scrolled": true
   },
   "outputs": [
    {
     "name": "stdout",
     "output_type": "stream",
     "text": [
      "https://eutils.ncbi.nlm.nih.gov/entrez/eutils/esearch.fcgi?db=pubmed&retmode=json&retmax=5&term=Kumar+V&cauthor_id=32489811\n"
     ]
    }
   ],
   "source": [
    "#Prior information\n",
    "name = 'First Last'\n",
    "org = 'Organization'\n",
    "email = 'Email'\n",
    "\n",
    "#Fill in prior information\n",
    "base = \"https://eutils.ncbi.nlm.nih.gov/entrez/eutils/\"\n",
    "#Database searching\n",
    "db = \"pubmed\"\n",
    "#Output format\n",
    "ret = \"json\"\n",
    "#Max number of results\n",
    "retnum = '5'\n",
    "#Search Query - reorganize name into the format 'Last+F', though I think including the entire first name also works\n",
    "name = \"Kumar+V\"\n",
    "#Computed author id\n",
    "cauthor = '32489811'\n",
    "#Assemble elink\n",
    "url = base + \"esearch.fcgi?db=\" + db + \"&retmode=\" + ret + \"&retmax=\" + retnum + \"&term=\" + name + \"&cauthor_id=\" + cauthor\n",
    "#Test the esearch URL\n",
    "print(url)"
   ]
  },
  {
   "cell_type": "code",
   "execution_count": 29,
   "metadata": {},
   "outputs": [
    {
     "name": "stdout",
     "output_type": "stream",
     "text": [
      "['33618251', '33617872', '33615940', '33615185', '33613829']\n"
     ]
    }
   ],
   "source": [
    "#Add search results to a list\n",
    "webpage = urllib.request.urlopen(url).read()\n",
    "dict_page =json.loads(webpage)\n",
    "idlist = dict_page[\"esearchresult\"][\"idlist\"]\n",
    "\n",
    "#Test the search results\n",
    "print(idlist)"
   ]
  },
  {
   "cell_type": "code",
   "execution_count": 73,
   "metadata": {},
   "outputs": [],
   "source": [
    "def generate_study_and_tags(soup):\n",
    "    \n",
    "    ### Study Section ###\n",
    "    study = {'title': 'None', 'publication date': 'None', 'pdf link': 'None', 'description': 'None'}\n",
    "    \n",
    "    # Article Name #\n",
    "    name = soup.find('articletitle')\n",
    "    if name:\n",
    "        study['title'] = name.text\n",
    "    \n",
    "    # Publication Date #\n",
    "    pubdate = soup.find('pubdate')\n",
    "    date = 'None'\n",
    "    if pubdate.year:\n",
    "        date = pubdate.year.text\n",
    "        if pubdate.month:\n",
    "            date += '/' + pubdate.month.text\n",
    "            if pubdate.day:\n",
    "                date += '/' + pubdate.day.text\n",
    "    study['publication date'] = date\n",
    "    \n",
    "    # Pdf Link #\n",
    "    doi = soup.find('articleid', idtype = \"doi\")\n",
    "    if doi:\n",
    "        study['pdf link'] = 'https://doi.org/' + doi.text\n",
    "    \n",
    "    # Abstract #\n",
    "    desc = soup.find('abstracttext')\n",
    "    if desc:\n",
    "        study['description'] = desc.text\n",
    "    \n",
    "    ### Tags Section ###\n",
    "    tags = []\n",
    "    keywords = soup.find_all('keyword')\n",
    "    for keyword in keywords:\n",
    "        tags.append(keyword.text) \n",
    "    #Could add MeSH tags if exist, would probably be better than these\n",
    "    \n",
    "    return study, tags"
   ]
  },
  {
   "cell_type": "code",
   "execution_count": 74,
   "metadata": {},
   "outputs": [
    {
     "name": "stdout",
     "output_type": "stream",
     "text": [
      "{'name': 'Kumar+V', 'organization': 'asd', 'topics': ['1H-1,2,3-Triazole', '4-Aminoquinoline', 'Anti-plasmodial activity', 'Benzoxaborole', 'Cytotoxicity', 'Suzuki-miyaura reaction', 'Ethanol', 'fasting', 'immunohistochemistry', 'lipid droplet', 'liver', 'mass spectrometry', 'mitochondria', 'perilipins', 'proteomics', 'steatosis', ' Caenorhabditis elegans ', ' Pseudomonas aeruginosa ', 'Anti-quorum sensing', 'biofilm', 'vanillin', 'FEA of screws', 'mandible fracture', 'open reduction and internal fixation', 'self-drilling screws', 'self-tapping screws'], 'studies': [{'title': 'Synthesis and antiplasmodial evaluation of 1H-1,2,3-triazole grafted 4-aminoquinoline-benzoxaborole hybrids and benzoxaborole analogues.', 'publication date': '2021/Feb/16', 'pdf link': 'https://doi.org/10.1016/j.bioorg.2021.104733', 'description': 'A library of 1H-1,2,3-triazole-tethered 4-aminoquinoline-benzoxaborole hybrids as well as aryl substituted benzoxaborole analogues was synthesized and screened for their anti-plasmodial efficacy against both chloroquine-susceptibility 3D7 and chloroquine-resistant W2 strains of P. falciparum. The inclusion of quinoline core among the synthesized analogues resulted in substantial enhancement of anti-plasmodial activities. Further, the spacer of a flexible alkyl chain is marginally preferred over piperazyl-ethyl in inhibiting growth of P. falciparum. The most potent 4-aminoquinoline-benzoxaborole conjugate with ethyl as spacer exhibited IC50 values of 4.15 and 3.78\\xa0μM against 3D7 CQ-susceptible and W2 CQ-resistant strains of P. falciparum with lower cross resistance with Chloroquine. There was no difference in anti-plasmodial activities between the CQ-susceptible 3D7 and CQ-resistant W2 strains of P. falciparum for the benzoxaborole derivatives lacking a quinoline core.'}, {'title': 'Lipid droplet membrane proteome remodeling parallels ethanol-induced hepatic steatosis and its resolution.', 'publication date': '2021/Feb/19', 'pdf link': 'https://doi.org/10.1016/j.jlr.2021.100049', 'description': 'Lipid droplets (LDs) are composed of neutral lipids enclosed in a phospholipid monolayer, which harbors membrane-associated proteins that regulate LD functions. Despite the crucial role of LDs in lipid metabolism, remodeling of LD protein composition in disease contexts, such as steatosis, remains poorly understood. We hypothesized that chronic ethanol (EtOH) consumption, subsequent abstinence from EtOH, or fasting differentially affect LD membrane proteome content, and that these changes influence how LDs interacts with other intracellular organelles. Here, male Wistar rats were pair-fed liquid control or EtOH diets for 6 weeks, then randomly-chosen animals from both groups were refed either a control diet for 7 days or were fasted for 48 hr before sacrifice. From all groups, LD membrane proteins from purified liver LDs were analyzed immunochemically and by mass spectrometry-proteomics. Liver LD numbers and sizes were greater in EtOH-fed rats than in pair-fed control, 7 day refed or fasted rats. Compared with control rats, EtOH feeding markedly altered the LD membrane proteome, enriching LD structural perilipins and proteins involved in lipid biosynthesis, while lowering LD lipase levels. EtOH feeding also lowered LD-associated mitochondrial and lysosomal proteins. In seven day refed (i.e. EtOH-abstained) or fasted-EtOH-fed rats we detected distinct remodeling of the LD proteome, as judged by lower levels of lipid biosynthetic proteins, and enhanced LD interaction with mitochondria and lysosomes. Our study reveals evidence of significant remodeling of the LD membrane proteome that regulates EtOH-induced steatosis, its resolution after withdrawal and abstinence, and changes in LD interactions with other intracellular organelles.'}, {'title': 'Vanillin derivative inhibits quorum sensing and biofilm formation in Pseudomonas aeruginosa: a study in a Caenorhabditis elegans infection model.', 'publication date': '2021/Feb/22', 'pdf link': 'https://doi.org/10.1080/14786419.2021.1887866', 'description': 'Vanillin and its derivative, (4-((E)-(4-hydroxy-2-methylphenylimino) methyl)-2-methoxyphenol (MMP) were showed clear inhibition of violacein and pyocyanin at sub-MICs indicating a possible quorum quenching effect of both the compounds. MMP was able to inhibit the biofilm formation in Pseudomonas aeruginosa PAO1 at 125\\u2009μg/mL (p\\u2009<\\u20090.05), while vanillin at 250\\u2009μg/mL (p\\u2009<\\u20090.05) indicating that they act against quorum sensing regulated biofilm formation. The inhibition of biofilm was confirmed by visualization through fluorescence microscopy followed by docking analysis of molecules against quorum sensing activator proteins. Caenorhabditis elegans survival assay revealed that vanillin and MMP were able to increase survival of C. elegans from P. aeruginosa PAO1 infection. The study showed that the potent features of the MMP and vanillin in inhibiting the quorum sensing regulated virulence and biofilm, which was proved in C. elegans infection model as well as molecular docking studies.'}, {'title': 'Wound Healing Activity of a Novel Formulation SKRIN via Induction of Cell Cycle Progression and Inhibition of PCNA-p21 Complex Interaction Leading to Cell Survival and Proliferation.', 'publication date': '2021/Feb/12', 'pdf link': 'https://doi.org/10.1021/acsptsci.0c00209', 'description': 'The process of wound healing is a dynamic event that starts with inflammation, proliferation, and cell migration of various types of fibroblast cells. Therefore, identification of potential molecules which may increase the wound healing capacity of fibroblast cells is crucial. A novel hydroalcoholic formulation of belladonna (SKRIN), was developed and characterized by GC-MS/MS, DLS, TEM, and AFM and was found to contain atropine and scopolamine exhibit in aggregated nanosized particles. SKRIN-mediated fibroblast cell survival was elucidated in the presence of H2O2 by MTT and flow cytometry based assays. With an EC50 of 4.41 μg/mL, SKRIN treatment showed significant increase in cell survival that was evident from a 1.11-fold increase (p < 0.0122) in the live cell population and 4.21-fold (p < 0.0001) and 2.59-fold (p < 0.0001) reductions in the early and late apoptotic cell populations, respectively. SKRIN-mediated wound healing was measured by cell scratch assay and cell cycle analysis. During the wound closure phenomenon, SKRIN increases repairing fibroblast cell proliferation by 1.24-fold (p = 0.0481) and increases the count of G2/M phase cells by 1.76-fold (p = 0.0002) which was confirmed by increased PCNA and reduced p21 protein expressions probably mediated by molecular interactions of PCNA-p21 complex with alkaloids present in SKRIN. Relative gene expression analysis further showed that SKRIN increases the PI3K, Akt, and NF-κB expression. Our data suggests that SKRIN exhibits wound healing property by increasing cell survival and repairing fibroblast proliferation via activation of the PI3K-Akt-NF-κB pathway probably mediated by inhibition of PCNA-p21 complex interaction.'}, {'title': 'Self-Drilling Versus Self-Tapping Screws: A 3D Finite Element Analysis.', 'publication date': '2021/Mar', 'pdf link': 'https://doi.org/10.1177/1943387520904212', 'description': 'Self-tapping and self-drilling screws are two modalities available for plate fixation. When compared to self-drilling, self-tapping screws have a few drawbacks like screw loosening, thermal osteolysis, equipment dependent, and time-consuming.'}]}\n"
     ]
    }
   ],
   "source": [
    "#Setup dictionary\n",
    "researcher = {'name': name, 'organization': org, 'topics': 'None', 'studies': 'None'}\n",
    "studies = []\n",
    "topics = []\n",
    "\n",
    "for link in idlist:\n",
    "    url = \"http://eutils.ncbi.nlm.nih.gov/entrez/eutils/efetch.fcgi?db=pubmed&retmode=xml&id=idlist\"\n",
    "    url = url.replace('idlist', link)\n",
    "    \n",
    "    r = requests.get(url)\n",
    "    soup = BeautifulSoup(r.content, \"html.parser\")\n",
    "    \n",
    "    study, tags = generate_study_and_tags(soup)\n",
    "    \n",
    "    studies.append(study)\n",
    "    topics = topics + tags\n",
    "    \n",
    "    #Need to sleep otherwise we get \n",
    "    time.sleep(1)\n",
    "\n",
    "if studies:\n",
    "    researcher['studies'] = studies\n",
    "if topics:\n",
    "    researcher['topics'] = topics\n",
    "print(researcher)"
   ]
  },
  {
   "cell_type": "code",
   "execution_count": null,
   "metadata": {},
   "outputs": [],
   "source": []
  }
 ],
 "metadata": {
  "kernelspec": {
   "display_name": "Python 3",
   "language": "python",
   "name": "python3"
  },
  "language_info": {
   "codemirror_mode": {
    "name": "ipython",
    "version": 3
   },
   "file_extension": ".py",
   "mimetype": "text/x-python",
   "name": "python",
   "nbconvert_exporter": "python",
   "pygments_lexer": "ipython3",
   "version": "3.8.5"
  }
 },
 "nbformat": 4,
 "nbformat_minor": 4
}
