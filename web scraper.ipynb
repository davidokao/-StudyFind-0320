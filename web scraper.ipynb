{
 "cells": [
  {
   "cell_type": "code",
   "execution_count": 1,
   "metadata": {},
   "outputs": [],
   "source": [
    "import requests\n",
    "from bs4 import BeautifulSoup\n",
    "from selenium import webdriver\n",
    "import pandas as pd\n",
    "import time \n"
   ]
  },
  {
   "cell_type": "code",
   "execution_count": 2,
   "metadata": {
    "scrolled": true
   },
   "outputs": [
    {
     "name": "stdout",
     "output_type": "stream",
     "text": [
      "<tbody><tr class=\"odd parent\" role=\"row\"><td class=\"dt-body-right\" tabindex=\"0\"><a id=\"rowId1\"></a>1</td><td class=\"dt-body-center\"><input aria-label=\"Save Study NCT04742179 checkbox\" class=\"SavedStudyCB\" id=\"NCT04742179\" name=\"NCT04742179\" onchange=\"updateCart('NCT04742179');\" type=\"checkbox\"/></td><td><span style=\"color:#008500;\">Not yet recruiting</span><br/><span class=\"usa-label\" title=\"First Posted within the last 30 days\">New</span></td><td><a href=\"/ct2/show/NCT04742179?draw=2&amp;rank=1\" title=\"Show study NCT04742179: Fighting Climate Change: Urban Greennes, Active Mobility and Health Co-benefits.\">Fighting Climate Change: Urban Greennes, Active Mobility and Health Co-benefits.</a></td><td><ul><li>Respiratory and Allergic Symptoms</li></ul></td><td><ul><li>Other: Manteinance and care intervention on the green areas.</li></ul></td><td></td></tr><tr class=\"even parent\" role=\"row\"><td class=\"dt-body-right\" tabindex=\"0\"><a id=\"rowId2\"></a>2</td><td class=\"dt-body-center\"><input aria-label=\"Save Study NCT04742166 checkbox\" class=\"SavedStudyCB\" id=\"NCT04742166\" name=\"NCT04742166\" onchange=\"updateCart('NCT04742166');\" type=\"checkbox\"/></td><td><span style=\"color:#008500;\">Not yet recruiting</span><br/><span class=\"usa-label\" title=\"First Posted within the last 30 days\">New</span></td><td><a href=\"/ct2/show/NCT04742166?draw=2&amp;rank=2\" title=\"Show study NCT04742166: Impact of Lateral Gastro-jejunal Anastomosis on the Rate of Gastroparesis After Cephalic Duodenopancreatectomy\">Impact of Lateral Gastro-jejunal Anastomosis on the Rate of Gastroparesis After Cephalic Duodenopancreatectomy</a></td><td><ul><li>Surgical Technique</li></ul></td><td><ul><li>Procedure: Reconstruction</li></ul></td><td><ul><li>Institut Paoli Calmettes<br/>Marseille, France</li><li>CHU de Rennes<br/>Rennes, France</li></ul></td></tr><tr class=\"odd parent\" role=\"row\"><td class=\"dt-body-right\" tabindex=\"0\"><a id=\"rowId3\"></a>3</td><td class=\"dt-body-center\"><input aria-label=\"Save Study NCT04742153 checkbox\" class=\"SavedStudyCB\" id=\"NCT04742153\" name=\"NCT04742153\" onchange=\"updateCart('NCT04742153');\" type=\"checkbox\"/></td><td><span style=\"color:#008500;\">Not yet recruiting</span><br/><span class=\"usa-label\" title=\"First Posted within the last 30 days\">New</span></td><td><a href=\"/ct2/show/NCT04742153?draw=2&amp;rank=3\" title=\"Show study NCT04742153: A Study of MRG002 in the Treatment of Patients With HER2-low Locally Advanced or Metastatic Breast Cancer (BC)\">A Study of MRG002 in the Treatment of Patients With HER2-low Locally Advanced or Metastatic Breast Cancer (BC)</a></td><td><ul><li>Advanced or Metastatic Breast Cancer</li></ul></td><td><ul><li>Drug: MRG002</li></ul></td><td><ul><li>Fifth Medical Center of PLA General Hospital<br/>Beijing, Beijing, China</li><li>The Fourth hospital of Hebei Medical University<br/>Shijiazhuang, Hebei, China</li></ul></td></tr><tr class=\"even parent\" role=\"row\"><td class=\"dt-body-right\" tabindex=\"0\"><a id=\"rowId4\"></a>4</td><td class=\"dt-body-center\"><input aria-label=\"Save Study NCT04742140 checkbox\" class=\"SavedStudyCB\" id=\"NCT04742140\" name=\"NCT04742140\" onchange=\"updateCart('NCT04742140');\" type=\"checkbox\"/></td><td><span style=\"color:#008500;\">Not yet recruiting</span><br/><span class=\"usa-label\" title=\"First Posted within the last 30 days\">New</span></td><td><a href=\"/ct2/show/NCT04742140?draw=2&amp;rank=4\" title=\"Show study NCT04742140: Magnesium Sulphate Injection in Treatment of Myofascial Trigger Points\">Magnesium Sulphate Injection in Treatment of Myofascial Trigger Points</a></td><td><ul><li>Trigger Point Pain, Myofascial</li></ul></td><td><ul><li>Drug: Magnesium sulfate</li><li>Drug: Saline</li></ul></td><td></td></tr><tr class=\"odd parent\" role=\"row\"><td class=\"dt-body-right\" tabindex=\"0\"><a id=\"rowId5\"></a>5</td><td class=\"dt-body-center\"><input aria-label=\"Save Study NCT04742127 checkbox\" class=\"SavedStudyCB\" id=\"NCT04742127\" name=\"NCT04742127\" onchange=\"updateCart('NCT04742127');\" type=\"checkbox\"/></td><td><span style=\"color:#E60000;\">Active, not recruiting</span><br/><span class=\"usa-label\" title=\"First Posted within the last 30 days\">New</span></td><td><a href=\"/ct2/show/NCT04742127?draw=2&amp;rank=5\" title=\"Show study NCT04742127: Failure of a Single Surgical Debridement in Septic Arthritis of the Native Hip\">Failure of a Single Surgical Debridement in Septic Arthritis of the Native Hip</a></td><td><ul><li>Septic Arthritis of the Native Hip</li><li>Failure of Initial Debridement</li></ul></td><td><ul><li>Diagnostic Test: Single surgical debridement</li></ul></td><td><ul><li>UZ Leuven<br/>Leuven, Belgium</li></ul></td></tr><tr class=\"even parent\" role=\"row\"><td class=\"dt-body-right\" tabindex=\"0\"><a id=\"rowId6\"></a>6</td><td class=\"dt-body-center\"><input aria-label=\"Save Study NCT04742114 checkbox\" class=\"SavedStudyCB\" id=\"NCT04742114\" name=\"NCT04742114\" onchange=\"updateCart('NCT04742114');\" type=\"checkbox\"/></td><td><span style=\"color:#008500;\">Not yet recruiting</span><br/><span class=\"usa-label\" title=\"First Posted within the last 30 days\">New</span></td><td><a href=\"/ct2/show/NCT04742114?draw=2&amp;rank=6\" title=\"Show study NCT04742114: Effect of EPAP Device on Emphysema and Lung Bullae\">Effect of EPAP Device on Emphysema and Lung Bullae</a></td><td><ul><li>Emphysema</li><li>Bullous Disease Lung</li></ul></td><td><ul><li>Device: use the face mask with Expiratory Positive Airway Pressure(EPAP).</li><li>Device: use the face mask without Expiratory Positive Airway Pressure(EPAP).</li></ul></td><td></td></tr><tr class=\"odd parent\" role=\"row\"><td class=\"dt-body-right\" tabindex=\"0\"><a id=\"rowId7\"></a>7</td><td class=\"dt-body-center\"><input aria-label=\"Save Study NCT04742101 checkbox\" class=\"SavedStudyCB\" id=\"NCT04742101\" name=\"NCT04742101\" onchange=\"updateCart('NCT04742101');\" type=\"checkbox\"/></td><td><span style=\"color:#008500;\">Not yet recruiting</span><br/><span class=\"usa-label\" title=\"First Posted within the last 30 days\">New</span></td><td><a href=\"/ct2/show/NCT04742101?draw=2&amp;rank=7\" title=\"Show study NCT04742101: Phase I/II Trial of S65487 Plus Azacitidine in Acute Myeloid Leukemia\">Phase I/II Trial of S65487 Plus Azacitidine in Acute Myeloid Leukemia</a></td><td><ul><li>Acute Myeloid Leukemia</li></ul></td><td><ul><li>Drug: S65487 and azacitidine</li></ul></td><td></td></tr><tr class=\"even parent\" role=\"row\"><td class=\"dt-body-right\" tabindex=\"0\"><a id=\"rowId8\"></a>8</td><td class=\"dt-body-center\"><input aria-label=\"Save Study NCT04742088 checkbox\" class=\"SavedStudyCB\" id=\"NCT04742088\" name=\"NCT04742088\" onchange=\"updateCart('NCT04742088');\" type=\"checkbox\"/></td><td><span style=\"color:#008500;\">Recruiting</span><br/><span class=\"usa-label\" title=\"First Posted within the last 30 days\">New</span></td><td><a href=\"/ct2/show/NCT04742088?draw=2&amp;rank=8\" title=\"Show study NCT04742088: Assessment of the Safety and Performance of a Compression Ankle Support in the Prevention of Injuries During Sports Practice\">Assessment of the Safety and Performance of a Compression Ankle Support in the Prevention of Injuries During Sports Practice</a></td><td><ul><li>Chronic Pain</li><li>Chronic Instability of Ankle Joint</li></ul></td><td><ul><li>Device: ankleSOFT100</li></ul></td><td><ul><li>KOSS Paris 8<br/>Paris, France</li></ul></td></tr><tr class=\"odd parent\" role=\"row\"><td class=\"dt-body-right\" tabindex=\"0\"><a id=\"rowId9\"></a>9</td><td class=\"dt-body-center\"><input aria-label=\"Save Study NCT04742075 checkbox\" class=\"SavedStudyCB\" id=\"NCT04742075\" name=\"NCT04742075\" onchange=\"updateCart('NCT04742075');\" type=\"checkbox\"/></td><td><span style=\"color:#008500;\">Not yet recruiting</span><br/><span class=\"usa-label\" title=\"First Posted within the last 30 days\">New</span></td><td><a href=\"/ct2/show/NCT04742075?draw=2&amp;rank=9\" title=\"Show study NCT04742075: Olaparib, Durvalumab and UV1 in Relapsed Ovarian Cancer\">Olaparib, Durvalumab and UV1 in Relapsed Ovarian Cancer</a></td><td><ul><li>Ovarian Cancer</li></ul></td><td><ul><li>Drug: Olaparib + durvalumab + UV1</li></ul></td><td><ul><li>Rigshospitalet<br/>København Ø, Sjaelland, Denmark</li></ul></td></tr><tr class=\"even parent\" role=\"row\"><td class=\"dt-body-right\" tabindex=\"0\"><a id=\"rowId10\"></a>10</td><td class=\"dt-body-center\"><input aria-label=\"Save Study NCT04742062 checkbox\" class=\"SavedStudyCB\" id=\"NCT04742062\" name=\"NCT04742062\" onchange=\"updateCart('NCT04742062');\" type=\"checkbox\"/></td><td><span style=\"color:#E60000;\">Completed</span><br/><span class=\"usa-label\" title=\"First Posted within the last 30 days\">New</span></td><td><a href=\"/ct2/show/NCT04742062?draw=2&amp;rank=10\" title=\"Show study NCT04742062: First in Human Clinical Trial of ApTOLL in Healthy Volunteers\">First in Human Clinical Trial of ApTOLL in Healthy Volunteers</a></td><td><ul><li>Stroke</li></ul></td><td><ul><li>Drug: ApTOLL</li><li>Other: Placebo</li></ul></td><td><ul><li>Clinical Pharmacology Department. Hospital Universitario de La Princesa<br/>Madrid, Spain</li></ul></td></tr></tbody>\n"
     ]
    }
   ],
   "source": [
    "url = 'https://clinicaltrials.gov/ct2/results?cond=&term=&cntry=&state=&city=&dist='\n",
    "driver = webdriver.Chrome('//Users/shardulkothapalli/Desktop/SCHOOL/6.spring2021/cs3312/StudyFind-0320/chromedriver')\n",
    "driver.get(url)\n",
    "time.sleep(4)\n",
    "soup = BeautifulSoup(driver.page_source,'html')\n",
    "driver.quit()\n",
    "tables = soup.find_all('tbody')\n",
    "print(tables[1])\n"
   ]
  },
  {
   "cell_type": "code",
   "execution_count": 3,
   "metadata": {
    "collapsed": true
   },
   "outputs": [
    {
     "name": "stdout",
     "output_type": "stream",
     "text": [
      "[['1', 'Not yet recruitingNew', 'Fighting Climate Change: Urban Greennes, Active Mobility and Health Co-benefits.', '/ct2/show/NCT04742179?draw=2&amp;rank=1', 'Respiratory and Allergic Symptoms', 'Other: Manteinance and care intervention on the green areas.'], ['2', 'Not yet recruitingNew', 'Impact of Lateral Gastro-jejunal Anastomosis on the Rate of Gastroparesis After Cephalic Duodenopancreatectomy', '/ct2/show/NCT04742166?draw=2&amp;rank=2', 'Surgical Technique', 'Procedure: Reconstruction', 'Institut Paoli CalmettesMarseille, FranceCHU de RennesRennes, France'], ['3', 'Not yet recruitingNew', 'A Study of MRG002 in the Treatment of Patients With HER2-low Locally Advanced or Metastatic Breast Cancer (BC)', '/ct2/show/NCT04742153?draw=2&amp;rank=3', 'Advanced or Metastatic Breast Cancer', 'Drug: MRG002', 'Fifth Medical Center of PLA General HospitalBeijing, Beijing, ChinaThe Fourth hospital of Hebei Medical UniversityShijiazhuang, Hebei, China'], ['4', 'Not yet recruitingNew', 'Magnesium Sulphate Injection in Treatment of Myofascial Trigger Points', '/ct2/show/NCT04742140?draw=2&amp;rank=4', 'Trigger Point Pain, Myofascial', 'Drug: Magnesium sulfateDrug: Saline'], ['5', 'Active, not recruitingNew', 'Failure of a Single Surgical Debridement in Septic Arthritis of the Native Hip', '/ct2/show/NCT04742127?draw=2&amp;rank=5', 'Septic Arthritis of the Native HipFailure of Initial Debridement', 'Diagnostic Test: Single surgical debridement', 'UZ LeuvenLeuven, Belgium'], ['6', 'Not yet recruitingNew', 'Effect of EPAP Device on Emphysema and Lung Bullae', '/ct2/show/NCT04742114?draw=2&amp;rank=6', 'EmphysemaBullous Disease Lung', 'Device: use the face mask with Expiratory Positive Airway Pressure(EPAP).Device: use the face mask without Expiratory Positive Airway Pressure(EPAP).'], ['7', 'Not yet recruitingNew', 'Phase I/II Trial of S65487 Plus Azacitidine in Acute Myeloid Leukemia', '/ct2/show/NCT04742101?draw=2&amp;rank=7', 'Acute Myeloid Leukemia', 'Drug: S65487 and azacitidine'], ['8', 'RecruitingNew', 'Assessment of the Safety and Performance of a Compression Ankle Support in the Prevention of Injuries During Sports Practice', '/ct2/show/NCT04742088?draw=2&amp;rank=8', 'Chronic PainChronic Instability of Ankle Joint', 'Device: ankleSOFT100', 'KOSS Paris 8Paris, France'], ['9', 'Not yet recruitingNew', 'Olaparib, Durvalumab and UV1 in Relapsed Ovarian Cancer', '/ct2/show/NCT04742075?draw=2&amp;rank=9', 'Ovarian Cancer', 'Drug: Olaparib + durvalumab + UV1', 'RigshospitaletKøbenhavn Ø, Sjaelland, Denmark'], ['10', 'CompletedNew', 'First in Human Clinical Trial of ApTOLL in Healthy Volunteers', '/ct2/show/NCT04742062?draw=2&amp;rank=10', 'Stroke', 'Drug: ApTOLLOther: Placebo', 'Clinical Pharmacology Department. Hospital Universitario de La PrincesaMadrid, Spain']]\n"
     ]
    }
   ],
   "source": [
    "table = tables[1]\n",
    "big_info = []\n",
    "for row in table.find_all(\"tr\"):\n",
    "    row_list = [] \n",
    "    for cell in row.find_all([\"th\",\"td\"]):\n",
    "        temp = cell.text\n",
    "        if (temp != ''):\n",
    "            row_list.append(temp)\n",
    "        if \"href\" in str(cell):\n",
    "            href_tags = cell.find_all(href=True)\n",
    "            a = str(href_tags[0]).split(\" \")[1]        \n",
    "            row_list.append(a[6:-1])        \n",
    "    big_info.append(row_list)\n",
    "    \n",
    "print(big_info)\n",
    "\n",
    "            \n",
    "# tab_data = [[cell.text for cell in row.find_all([\"th\",\"td\"])]\n",
    "#                         for row in table.find_all(\"tr\")]\n",
    "# print(tab_data)"
   ]
  },
  {
   "cell_type": "code",
   "execution_count": 4,
   "metadata": {
    "scrolled": true
   },
   "outputs": [
    {
     "name": "stdout",
     "output_type": "stream",
     "text": [
      "BRIEF SUMMARY:  Prospective bi-centric randomized open-label study comparing lateral and terminolateral gastro-jejunal anastomoses in cephalic duodenopancreatectomies. \n",
      "\n",
      "DETAILLED SUMMARY:  Gastroparesis is one of the main complications occurring after cephalic duodenopancreatectomy, the incidence of which is estimated between 10 and 40% in the literature. Its occurrence leads to an alteration in post-operative quality of life (maintenance or resting of the nasogastric tube) and is the primary reason for lengthening the length of hospital stay and thus increasing the cost of treatment. In addition, it predisposes to the risk of inhalation pneumopathy, which increases the risk of post-operative death. Various technical surgical points have been suggested by retrospective studies to reduce its incidence (pyloric preservation, respect for the left gastric vein, ante-colic positioning of the Child's handle, making a Y-shaped handle) but without ever being validated in randomized prospective studies.\n",
      "Recently three retrospective studies have highlighted the interest of performing a lateral-lateral rather than a terminolateral gastro-jejunal anastomosis to reduce the rate of post-operative gastroparesis. \n",
      "\n",
      "STUDY ELIGIBILITY:  ['Ages Eligible for Study: \\xa0 ', '18 Years and older \\xa0 (Adult, Older Adult)', 'Sexes Eligible for Study: \\xa0 ', 'All', 'Accepts Healthy Volunteers: \\xa0 ', 'No'] \n",
      "\n",
      "STUDY CRITERIA:  ['\\nStudy Type  :', '\\r\\n        Interventional\\r\\n                \\xa0(Clinical Trial)\\r\\n                \\r\\n        \\r\\n      ', 'Estimated\\r\\nEnrollment  :', '166 participants', 'Allocation:', 'Randomized', 'Intervention Model:', 'Parallel Assignment', 'Masking:', ' None (Open Label)', 'Primary Purpose:', ' Other', 'Official Title:', 'Impact of Lateral Gastro-jejunal Anastomosis on the Rate of Gastroparesis After Cephalic Duodenopancreatectomy: A Prospective Randomized Study', '  Estimated Study Start Date  :', 'April 1, 2021', '  Estimated Primary Completion Date  :', 'July 1, 2023', '  Estimated Study Completion Date  :', 'July 1, 2023'] \n",
      "\n"
     ]
    }
   ],
   "source": [
    "for study in big_info[1:]:\n",
    "    temp_dict = {}\n",
    "    url = 'https://clinicaltrials.gov' + study[3]\n",
    "    response = requests.get(url)\n",
    "    soup = BeautifulSoup(response.text,'html')\n",
    "    #print(soup)\n",
    "    summ = soup.findAll(\"div\", {\"class\": \"ct-body3 tr-indent2\"})\n",
    "    temp_dict['brief summary'] = summ[0].text\n",
    "    temp_dict['detailled description'] = summ[1].text\n",
    "    summ = soup.findAll(\"div\", {\"class\": \"ct-body3 tr-indent2\"})\n",
    "\n",
    "    study_design = soup.findAll(\"table\", {\"class\": \"ct-layout_table tr-tableStyle tr-studyInfo\"})\n",
    "    tab1 = study_design[0]\n",
    "    tab1_det = []\n",
    "    for row in tab1.find_all(\"tr\"):\n",
    "        for cell in row.find_all([\"th\",\"td\"]):\n",
    "            temp = cell.text\n",
    "            if temp != '':\n",
    "                tab1_det.append(temp)\n",
    "    tab2 = study_design[1]\n",
    "    tab2_det = []\n",
    "    for row in tab2.find_all(\"tr\"):\n",
    "        for cell in row.find_all([\"th\",\"td\"]):\n",
    "            temp = cell.text\n",
    "            if temp != '':\n",
    "                tab2_det.append(temp)\n",
    "    \n",
    "    study_design = soup.findAll(\"div\", {\"class\": \"tr-indent2\"})\n",
    "    print('BRIEF SUMMARY: ', temp_dict['brief summary'], '\\n')\n",
    "    print('DETAILLED SUMMARY: ', temp_dict['detailled description'], '\\n')\n",
    "    print(\"STUDY ELIGIBILITY: \", tab2_det, '\\n')\n",
    "    print(\"STUDY CRITERIA: \", tab1_det, '\\n')\n",
    "    #print(len(study_design))\n",
    "    #for row in tab1.find_all(\"tr\")\n",
    "    #print(study_design)\n",
    "\n",
    "    break\n",
    "driver.quit()\n",
    "    \n",
    "    \n"
   ]
  },
  {
   "cell_type": "code",
   "execution_count": 17,
   "metadata": {},
   "outputs": [
    {
     "data": {
      "text/plain": [
       "['Andrew Ng',\n",
       " 'Stanford University',\n",
       " ['Machine Learning', 'Deep Learning', 'AI']]"
      ]
     },
     "execution_count": 17,
     "metadata": {},
     "output_type": "execute_result"
    }
   ],
   "source": [
    "url = 'https://scholar.google.com/citations?user=mG4imMEAAAAJ&hl=en'\n",
    "url += '&view_op=list_works&sortby=pubdate'\n",
    "response = requests.get(url)\n",
    "soup = BeautifulSoup(response.text,'html')\n",
    "\n",
    "\n",
    "prof = soup.findAll(\"div\", {\"id\": \"gsc_prf_i\"})\n",
    "tags = soup.findAll(\"a\", {\"class\": \"gsc_prf_inta gs_ibl\"})\n",
    "prof_info = []\n",
    "\n",
    "for row in prof[0].find_all(\"div\")[:2]:\n",
    "    prof_info.append(row.text)\n",
    "temp_tags = []\n",
    "for tag in tags:\n",
    "    temp_tags.append(tag.text)\n",
    "prof_info.append(temp_tags)\n",
    "prof_info\n"
   ]
  },
  {
   "cell_type": "code",
   "execution_count": 26,
   "metadata": {},
   "outputs": [
    {
     "name": "stdout",
     "output_type": "stream",
     "text": [
      "CheXtransfer: Performance and Parameter Efficiency of ImageNet Models for Chest X-Ray InterpretationA Ke, W Ellsworth, O Banerjee, AY Ng, P RajpurkararXiv preprint arXiv:2101.06871, 20212021 \n",
      "\n",
      "Data augmentation with Mobius transformationsS Zhou, J Zhang, H Jiang, T Lundh, A NgMachine Learning: Science and Technology, 20202020 \n",
      "\n",
      "Systems and methods for real-time neural text-to-speechM Chrzanowski, A Coates, G DIAMOS, A GIBIANSKY, J Miller, A Ng, ...US Patent 10,872,598, 202022020 \n",
      "\n",
      "Upscaling FLUXNET-CH4: Data-driven model performance, predictors, and regional to global methane emission estimates for freshwater wetlandsG McNicol, E Fluet-chouinard, S Knox, Z Yang, Z Zhang, T Aalto, S Bansal, ...AGU Fall Meeting 2020, 20202020 \n",
      "\n",
      "Incorporating machine learning and social determinants of health indicators into prospective risk adjustment for health plan paymentsJA Irvin, AA Kondrich, M Ko, P Rajpurkar, B Haghgoo, BE Landon, ...BMC public health 20, 1-10, 202022020 \n",
      "\n",
      "AppendiXNet: Deep Learning for Diagnosis of Appendicitis from A Small Dataset of CT Exams Using Video PretrainingR Pranav, A Park, J Irvin, C Chute, M Bereket, M Domenico, CP Langlotz, ...Scientific Reports (Nature Publisher Group) 10 (1), 20202020 \n",
      "\n",
      "CheXphoto: 10,000+ Photos and Transformations of Chest X-rays for Benchmarking Deep Learning RobustnessNA Phillips, P Rajpurkar, M Sabini, R Krishnan, S Zhou, A Pareek, ...Machine Learning for Health, 318-327, 20202020 \n",
      "\n",
      "Ngboost: Natural gradient boosting for probabilistic predictionT Duan, A Anand, DY Ding, KK Thai, S Basu, A Ng, A SchulerInternational Conference on Machine Learning, 2690-2700, 2020152020 \n",
      "\n",
      "OGNet: Towards a Global Oil and Gas Infrastructure Database using Deep Learning on Remotely Sensed ImageryH Sheng, J Irvin, S Munukutla, S Zhang, C Cross, K Story, R Rustowicz, ...arXiv preprint arXiv:2011.07227, 20202020 \n",
      "\n",
      "CheXphotogenic: Generalization of Deep Learning Models for Chest X-ray Interpretation to Photos of Chest X-raysP Rajpurkar, A Joshi, A Pareek, J Irvin, AY Ng, M LungrenarXiv preprint arXiv:2011.06129, 20202020 \n",
      "\n",
      "ForestNet: Classifying Drivers of Deforestation in Indonesia using Deep Learning on Satellite ImageryJ Irvin, H Sheng, N Ramachandran, S Johnson-Yu, S Zhou, K Story, ...arXiv preprint arXiv:2011.05479, 20202020 \n",
      "\n",
      "Deep learning assistance for the histopathologic diagnosis of Helicobacter pyloriS Zhou, H Marklund, O Blaha, M Desai, B Martin, D Bingham, GJ Berry, ...Intelligence-Based Medicine 1, 100004, 20202020 \n",
      "\n",
      "GloFlow: Global Image Alignment for Creation of Whole Slide Images for Pathology from VideoV Krishna, A Joshi, PL Bulterys, E Yang, AY Ng, P RajpurkararXiv preprint arXiv:2010.15269, 20202020 \n",
      "\n",
      "MoCo pretraining improves representation and transferability of chest X-ray modelsH Sowrirajan, J Yang, AY Ng, P RajpurkararXiv preprint arXiv:2010.05352, 202042020 \n",
      "\n",
      "Short-Term Solar Irradiance Forecasting Using Calibrated Probabilistic ModelsE Zelikman, S Zhou, J Irvin, C Raterink, H Sheng, J Kelly, R Rajagopal, ...arXiv preprint arXiv:2010.04715, 202012020 \n",
      "\n",
      "DLBCL-Morph: Morphological features computed using deep learning for an annotated digital DLBCL image setD Vrabac, A Smit, R Rojansky, Y Natkunam, RH Advani, AY Ng, ...arXiv preprint arXiv:2009.08123, 20202020 \n",
      "\n",
      "CheXaid: deep learning assistance for physician diagnosis of tuberculosis using chest x-rays in patients with HIVP Rajpurkar, C O’Connell, A Schechter, N Asnani, J Li, A Kiani, RL Ball, ...NPJ digital medicine 3 (1), 1-8, 202012020 \n",
      "\n",
      "Countdown regression: sharp and calibrated survival predictionsA Avati, T Duan, S Zhou, K Jung, NH Shah, AY NgUncertainty in Artificial Intelligence, 145-155, 2020152020 \n",
      "\n",
      "Chexphoto: 10,000+ smartphone photos and synthetic photographic transformations of chest x-rays for benchmarking deep learning robustnessNA Phillips, P Rajpurkar, M Sabini, R Krishnan, S Zhou, A Pareek, ...arXiv preprint arXiv:2007.06199, 202052020 \n",
      "\n",
      "RGS12 Is a Novel Critical NF-κB Activator in Inflammatory ArthritisG Yuan, S Yang, A Ng, C Fu, MJ Oursler, L Xing, S YangIscience 23 (6), 101172, 202012020 \n",
      "\n"
     ]
    }
   ],
   "source": [
    "studies = soup.findAll(\"tbody\", {\"id\": \"gsc_a_b\"})\n",
    "for row in studies[0].find_all(\"tr\", {'class': 'gsc_a_tr'}):\n",
    "    print(row.text, '\\n')"
   ]
  },
  {
   "cell_type": "code",
   "execution_count": null,
   "metadata": {},
   "outputs": [],
   "source": []
  }
 ],
 "metadata": {
  "kernelspec": {
   "display_name": "Python 3",
   "language": "python",
   "name": "python3"
  },
  "language_info": {
   "codemirror_mode": {
    "name": "ipython",
    "version": 3
   },
   "file_extension": ".py",
   "mimetype": "text/x-python",
   "name": "python",
   "nbconvert_exporter": "python",
   "pygments_lexer": "ipython3",
   "version": "3.8.3"
  }
 },
 "nbformat": 4,
 "nbformat_minor": 4
}
